{
 "cells": [
  {
   "cell_type": "code",
   "execution_count": 162,
   "metadata": {},
   "outputs": [],
   "source": [
    "import requests\n",
    "from bs4 import BeautifulSoup\n",
    "\n",
    "r = requests.get('https://www.bbcgoodfood.com/recipes/hummus-without-tahini')"
   ]
  },
  {
   "cell_type": "code",
   "execution_count": 163,
   "metadata": {},
   "outputs": [],
   "source": [
    "def remove_tags(html):\n",
    "    # parse html content\n",
    "    soup = BeautifulSoup(html, \"html.parser\")\n",
    " \n",
    "    for data in soup(['style', 'script']):\n",
    "        # Remove tags\n",
    "        data.decompose()\n",
    " \n",
    "    # return data by retrieving the tag content\n",
    "    return ' '.join(soup.stripped_strings)"
   ]
  },
  {
   "cell_type": "code",
   "execution_count": 164,
   "metadata": {},
   "outputs": [
    {
     "data": {
      "text/plain": [
       "9299"
      ]
     },
     "execution_count": 164,
     "metadata": {},
     "output_type": "execute_result"
    }
   ],
   "source": [
    "len(remove_tags(r.content))"
   ]
  },
  {
   "cell_type": "code",
   "execution_count": 165,
   "metadata": {},
   "outputs": [],
   "source": [
    "from vertexai.preview.language_models import TextGenerationModel\n",
    "\n",
    "model = TextGenerationModel.from_pretrained(\"text-bison@001\")"
   ]
  },
  {
   "cell_type": "code",
   "execution_count": 166,
   "metadata": {},
   "outputs": [],
   "source": [
    "parameters = {\n",
    "    \"temperature\": .2,\n",
    "    \"max_output_tokens\": 1024,\n",
    "    \"top_p\": .8,\n",
    "    \"top_k\": 40\n",
    "}"
   ]
  },
  {
   "cell_type": "code",
   "execution_count": 179,
   "metadata": {},
   "outputs": [],
   "source": [
    "text = f\"\"\"\n",
    "    You have the following text:\n",
    "    {remove_tags(r.content)}\n",
    "    \n",
    "    Please write me a json file that respects the following structure:\n",
    "    class Recipe(BaseModel):\n",
    "        id: str\n",
    "        name: str\n",
    "        image_url: str\n",
    "        category: str\n",
    "        description: str\n",
    "        steps: List[str]\n",
    "        ingredients: List[Ingredient]\n",
    "        reviews: Optional[int]\n",
    "        rating: Optional[int]\n",
    "        \n",
    "    The ingredient is of the form:\n",
    "    class Ingredient(BaseModel):\n",
    "        name: str\n",
    "        quantity: str\n",
    "        measure_unit: str\n",
    "\"\"\""
   ]
  },
  {
   "cell_type": "code",
   "execution_count": 180,
   "metadata": {},
   "outputs": [
    {
     "data": {
      "text/plain": [
       "9814"
      ]
     },
     "execution_count": 180,
     "metadata": {},
     "output_type": "execute_result"
    }
   ],
   "source": [
    "len(text)"
   ]
  },
  {
   "cell_type": "code",
   "execution_count": 181,
   "metadata": {},
   "outputs": [],
   "source": [
    "response = model.predict(\n",
    "    text, **parameters,\n",
    ")"
   ]
  },
  {
   "cell_type": "code",
   "execution_count": 182,
   "metadata": {},
   "outputs": [
    {
     "name": "stdout",
     "output_type": "stream",
     "text": [
      "```json\n",
      "{\n",
      "  \"id\": \"1234567890\",\n",
      "  \"name\": \"Hummus without tahini\",\n",
      "  \"image_url\": \"https://i.imgur.com/image.jpg\",\n",
      "  \"category\": \"Lunch\",\n",
      "  \"description\": \"Enjoy our easy, budget-friendly hummus recipe with your favourite sides, such as pittas, crackers and crudités. Add more liquid from the can of chickpeas for a smoother hummus, if you like. Dairy-free Egg-free Gluten-free Vegan\",\n",
      "  \"steps\": [\"Tip the chickpeas, garlic, lemon juice and olive oil into a small blender or food processor. Season and add 1 tbsp of the reserved liquid from the can of chickpeas.\", \"Blitz together until smooth, adding more of the reserved chickpea liquid to make a smoother hummus, if you like. Tip the hummus into a bowl, drizzle with more olive oil and chill until ready to serve. Serve with pittas or vegetable crudités.\"],\n",
      "  \"ingredients\": [\n",
      "    {\n",
      "      \"name\": \"400g can chickpeas, drained (liquid reserved)\",\n",
      "      \"quantity\": \"400g\",\n",
      "      \"measure_unit\": \"can\"\n",
      "    },\n",
      "    {\n",
      "      \"name\": \"½ small garlic clove, crushed, or ½ tsp garlic purée\",\n",
      "      \"quantity\": \"½\",\n",
      "      \"measure_unit\": \"clove\"\n",
      "    },\n",
      "    {\n",
      "      \"name\": \"1 tsp lemon juice\",\n",
      "      \"quantity\": \"1\",\n",
      "      \"measure_unit\": \"tsp\"\n",
      "    },\n",
      "    {\n",
      "      \"name\": \"2 tbsp olive oil, plus a drizzle\",\n",
      "      \"quantity\": \"2\",\n",
      "      \"measure_unit\": \"tbsp\"\n",
      "    }\n",
      "  ],\n",
      "  \"reviews\": 3,\n",
      "  \"rating\": 4.3\n",
      "}\n",
      "```\n"
     ]
    }
   ],
   "source": [
    "print(response.text)"
   ]
  },
  {
   "cell_type": "code",
   "execution_count": 184,
   "metadata": {},
   "outputs": [],
   "source": [
    "import json\n",
    "\n",
    "with open(\"recipe.json\", \"w\") as fp:\n",
    "    json.dump(json.loads(response.text.replace(\"```json\", \"\").replace(\"```\", \"\")), fp, indent=4, ensure_ascii=False)"
   ]
  },
  {
   "cell_type": "code",
   "execution_count": null,
   "metadata": {},
   "outputs": [],
   "source": []
  }
 ],
 "metadata": {
  "kernelspec": {
   "display_name": "rtc-engine",
   "language": "python",
   "name": "python3"
  },
  "language_info": {
   "codemirror_mode": {
    "name": "ipython",
    "version": 3
   },
   "file_extension": ".py",
   "mimetype": "text/x-python",
   "name": "python",
   "nbconvert_exporter": "python",
   "pygments_lexer": "ipython3",
   "version": "3.10.9"
  },
  "orig_nbformat": 4
 },
 "nbformat": 4,
 "nbformat_minor": 2
}
