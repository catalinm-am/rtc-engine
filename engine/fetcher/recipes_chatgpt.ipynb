{
 "cells": [
  {
   "cell_type": "code",
   "execution_count": 1,
   "metadata": {},
   "outputs": [],
   "source": [
    "import openai\n",
    "import requests\n",
    "\n",
    "from bs4 import BeautifulSoup\n",
    "\n",
    "# openai.Model.list()"
   ]
  },
  {
   "cell_type": "code",
   "execution_count": 8,
   "metadata": {},
   "outputs": [],
   "source": [
    "def remove_tags(html):\n",
    "    # parse html content\n",
    "    soup = BeautifulSoup(html, \"html.parser\")\n",
    " \n",
    "    for data in soup(['style', 'script']):\n",
    "        # Remove tags\n",
    "        data.decompose()\n",
    " \n",
    "    # return data by retrieving the tag content\n",
    "    return ' '.join(soup.stripped_strings)\n",
    "\n",
    "url = 'https://www.lauralaurentiu.ro/retete-culinare/retete-de-salate/salata-de-morcovi-coreeana-reteta-de-salata-delicioasa-plina-de-vitamina-a.html'\n",
    "r = requests.get(url)"
   ]
  },
  {
   "cell_type": "code",
   "execution_count": 9,
   "metadata": {},
   "outputs": [
    {
     "data": {
      "text/plain": [
       "10510"
      ]
     },
     "execution_count": 9,
     "metadata": {},
     "output_type": "execute_result"
    }
   ],
   "source": [
    "len(remove_tags(r.content))"
   ]
  },
  {
   "cell_type": "code",
   "execution_count": 10,
   "metadata": {},
   "outputs": [],
   "source": [
    "messages = [{\n",
    "    \"role\": \"user\",\n",
    "    \"content\": f\"\"\"\n",
    "        Ai urmatorul link: {url}\n",
    "        Te rog scrie-mi un fisier json care sa respecte urmatoarea structura:\n",
    "        \n",
    "        class Recipe(BaseModel):\n",
    "            id: str\n",
    "            name: str\n",
    "            description: str\n",
    "            image_url: str\n",
    "            category: str\n",
    "            servings: int\n",
    "            steps: List[str]\n",
    "            ingredients: List[Ingredient]\n",
    "            reviews: Optional[int]\n",
    "            rating: Optional[float]\n",
    "\n",
    "        Ingredient e de forma:\n",
    "        class Ingredient(BaseModel):\n",
    "            name: str\n",
    "            quantity: str\n",
    "            measure_unit: str\n",
    "    \"\"\"\n",
    "}]\n",
    "\n",
    "chat = openai.ChatCompletion.create(\n",
    "    model=\"gpt-3.5-turbo\", messages=messages\n",
    ")"
   ]
  },
  {
   "cell_type": "code",
   "execution_count": 14,
   "metadata": {},
   "outputs": [
    {
     "data": {
      "text/plain": [
       "Recipe(id='1', name='Salata de morcovi coreeana', description='Reteta de salata delicioasa plina de vitamina A', image_url='https://www.lauralaurentiu.ro/wp-content/uploads/2012/01/salata-de-morcovi-coreeana.jpg', category='Salate', servings=4, steps=['1. Curatati morcovii si taiati-i julienne', '2. Amestecati morcovii cu sarea si lasati-i sa stea timp de 5-10 minute', '3. Stoarceti excesul de apa din morcovi', '4. Adaugati restul ingredientelor: ceapa verde, seminte de susan, ulei de susan, otet de orez, zahar brun, sos de soia', '5. Amestecati bine si lasati salata sa se asezoneze timp de aproximativ 30 de minute', '6. Serviti salata de morcovi coreeana ca atare sau alaturi de alte preparate'], ingredients=[Ingredient(name='Morcovi', quantity='500g', measure_unit='buc'), Ingredient(name='Sare', quantity='1/2 lingurita', measure_unit='lingurita'), Ingredient(name='Ceapa verde', quantity='2 fire', measure_unit='buc'), Ingredient(name='Seminte de susan', quantity='1 lingura', measure_unit='lingura'), Ingredient(name='Ulei de susan', quantity='2 linguri', measure_unit='lingura'), Ingredient(name='Otet de orez', quantity='1 lingura', measure_unit='lingura'), Ingredient(name='Zahar brun', quantity='1 lingura', measure_unit='lingura'), Ingredient(name='Sos de soia', quantity='2 linguri', measure_unit='lingura')], reviews=None, rating=None)"
      ]
     },
     "execution_count": 14,
     "metadata": {},
     "output_type": "execute_result"
    }
   ],
   "source": [
    "import json\n",
    "from engine.models.model import Recipe\n",
    "\n",
    "Recipe.parse_obj(json.loads(chat.choices[0].message.content))"
   ]
  },
  {
   "cell_type": "code",
   "execution_count": 11,
   "metadata": {},
   "outputs": [
    {
     "name": "stdout",
     "output_type": "stream",
     "text": [
      "{\n",
      "    \"id\": \"1\",\n",
      "    \"name\": \"Salata de morcovi coreeana\",\n",
      "    \"description\": \"Reteta de salata delicioasa plina de vitamina A\",\n",
      "    \"image_url\": \"https://www.lauralaurentiu.ro/wp-content/uploads/2012/01/salata-de-morcovi-coreeana.jpg\",\n",
      "    \"category\": \"Salate\",\n",
      "    \"servings\": 4,\n",
      "    \"steps\": [\n",
      "        \"1. Curatati morcovii si taiati-i julienne\",\n",
      "        \"2. Amestecati morcovii cu sarea si lasati-i sa stea timp de 5-10 minute\",\n",
      "        \"3. Stoarceti excesul de apa din morcovi\",\n",
      "        \"4. Adaugati restul ingredientelor: ceapa verde, seminte de susan, ulei de susan, otet de orez, zahar brun, sos de soia\",\n",
      "        \"5. Amestecati bine si lasati salata sa se asezoneze timp de aproximativ 30 de minute\",\n",
      "        \"6. Serviti salata de morcovi coreeana ca atare sau alaturi de alte preparate\"\n",
      "    ],\n",
      "    \"ingredients\": [\n",
      "        {\n",
      "            \"name\": \"Morcovi\",\n",
      "            \"quantity\": \"500g\",\n",
      "            \"measure_unit\": \"buc\"\n",
      "        },\n",
      "        {\n",
      "            \"name\": \"Sare\",\n",
      "            \"quantity\": \"1/2 lingurita\",\n",
      "            \"measure_unit\": \"lingurita\"\n",
      "        },\n",
      "        {\n",
      "            \"name\": \"Ceapa verde\",\n",
      "            \"quantity\": \"2 fire\",\n",
      "            \"measure_unit\": \"buc\"\n",
      "        },\n",
      "        {\n",
      "            \"name\": \"Seminte de susan\",\n",
      "            \"quantity\": \"1 lingura\",\n",
      "            \"measure_unit\": \"lingura\"\n",
      "        },\n",
      "        {\n",
      "            \"name\": \"Ulei de susan\",\n",
      "            \"quantity\": \"2 linguri\",\n",
      "            \"measure_unit\": \"lingura\"\n",
      "        },\n",
      "        {\n",
      "            \"name\": \"Otet de orez\",\n",
      "            \"quantity\": \"1 lingura\",\n",
      "            \"measure_unit\": \"lingura\"\n",
      "        },\n",
      "        {\n",
      "            \"name\": \"Zahar brun\",\n",
      "            \"quantity\": \"1 lingura\",\n",
      "            \"measure_unit\": \"lingura\"\n",
      "        },\n",
      "        {\n",
      "            \"name\": \"Sos de soia\",\n",
      "            \"quantity\": \"2 linguri\",\n",
      "            \"measure_unit\": \"lingura\"\n",
      "        }\n",
      "    ],\n",
      "    \"reviews\": null,\n",
      "    \"rating\": null\n",
      "}\n"
     ]
    }
   ],
   "source": [
    "reply = chat.choices[0].message.content\n",
    "print(reply)"
   ]
  },
  {
   "cell_type": "code",
   "execution_count": null,
   "metadata": {},
   "outputs": [],
   "source": []
  }
 ],
 "metadata": {
  "kernelspec": {
   "display_name": "rtc-engine",
   "language": "python",
   "name": "python3"
  },
  "language_info": {
   "codemirror_mode": {
    "name": "ipython",
    "version": 3
   },
   "file_extension": ".py",
   "mimetype": "text/x-python",
   "name": "python",
   "nbconvert_exporter": "python",
   "pygments_lexer": "ipython3",
   "version": "3.10.9"
  },
  "orig_nbformat": 4
 },
 "nbformat": 4,
 "nbformat_minor": 2
}
