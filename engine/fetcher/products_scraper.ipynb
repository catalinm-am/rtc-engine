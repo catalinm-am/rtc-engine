{
 "cells": [
  {
   "cell_type": "code",
   "execution_count": 1,
   "metadata": {},
   "outputs": [
    {
     "name": "stderr",
     "output_type": "stream",
     "text": [
      "/var/folders/y8/sg2j3k7513d450p1rpxfh4sc0000gp/T/ipykernel_77224/1105842987.py:7: DeprecationWarning: headless property is deprecated, instead use add_argument('--headless') or add_argument('--headless=new')\n",
      "  options.headless = True\n"
     ]
    }
   ],
   "source": [
    "from selenium import webdriver\n",
    "from selenium.webdriver.chrome.options import Options\n",
    "from selenium.webdriver.common.by import By\n",
    "from tqdm import tqdm\n",
    "\n",
    "options = Options()\n",
    "options.headless = True\n",
    "options.add_argument(\"--window-size=1920,10000\")\n",
    "\n",
    "driver = webdriver.Chrome(options=options)"
   ]
  },
  {
   "cell_type": "code",
   "execution_count": 2,
   "metadata": {},
   "outputs": [],
   "source": [
    "product_urls = [\n",
    "    (\"https://www.freshful.ro/c/1-brutarie-si-patiserie/101-paine\", \"Paine\"),\n",
    "    (\"https://www.freshful.ro/c/2-carne-si-peste/201-carne-de-vita-si-oaie\", \"Carne si Peste\"),\n",
    "    (\"https://www.freshful.ro/c/2-carne-si-peste/202-carne-de-porc\", \"Carne si Peste\"),\n",
    "    (\"https://www.freshful.ro/c/2-carne-si-peste/203-carne-de-pasare\", \"Carne si Peste\"),\n",
    "    (\"https://www.freshful.ro/c/2-carne-si-peste/206-peste-si-sushi\", \"Carne si Peste\"),\n",
    "    (\"https://www.freshful.ro/c/3-fructe-si-legume/301-fructe-proaspete\", \"Fructe si Legume\"),\n",
    "    (\"https://www.freshful.ro/c/3-fructe-si-legume/302-legume-proaspete\", \"Fructe si Legume\"),\n",
    "    (\"https://www.freshful.ro/c/3-fructe-si-legume/303-verdeturi-si-plante-aromatice\", \"Fructe si Legume\"),\n",
    "    (\"https://www.freshful.ro/c/3-fructe-si-legume/304-fructe-uscate-crude\", \"Fructe si Legume\"),\n",
    "    (\"https://www.freshful.ro/c/3-fructe-si-legume/305-sucuri-naturale\", \"Fructe si Legume\"),\n",
    "    (\"https://www.freshful.ro/c/4-lactate-branzeturi-si-oua/401-lapte-smantana-si-branza-proaspata\", \"Lactate, Branzeturi si Oua\"),\n",
    "    (\"https://www.freshful.ro/c/4-lactate-branzeturi-si-oua/402-unt-si-margarina\", \"Lactate, Branzeturi si Oua\"),\n",
    "    (\"https://www.freshful.ro/c/4-lactate-branzeturi-si-oua/404-iaurt-desert-si-sana\", \"Lactate, Branzeturi si Oua\"),\n",
    "    (\"https://www.freshful.ro/c/4-lactate-branzeturi-si-oua/405-oua\", \"Lactate, Branzeturi si Oua\"),\n",
    "    (\"https://www.freshful.ro/c/4-lactate-branzeturi-si-oua/406-branzeturi\", \"Lactate, Branzeturi si Oua\"),\n",
    "    (\"https://www.freshful.ro/c/5-mezeluri-si-ready-to-cook/501-mezeluri\", \"Mezeluri\"),\n",
    "    (\"https://www.freshful.ro/c/5-mezeluri-si-ready-to-cook/502-mezeluri-feliate\", \"Mezeluri\"),\n",
    "    (\"https://www.freshful.ro/c/produse-vegetale/bauturi-creme-si-grasimi-vegetale\", \"Produse Vegetale\"),\n",
    "    (\"https://www.freshful.ro/c/produse-vegetale/carne-si-specialitati-vegetale\", \"Produse Vegetale\"),\n",
    "    (\"https://www.freshful.ro/c/7-bauturi-si-tutun/702-apa\", \"Apa\"),\n",
    "    (\"https://www.freshful.ro/c/7-bauturi-si-tutun/705-vinuri\", \"Vinuri\"),\n",
    "    (\"https://www.freshful.ro/c/8-ceva-sarat/801-paste-orez-si-legume-uscate\", \"Paste si Orez\"),\n",
    "    (\"https://www.freshful.ro/c/8-ceva-sarat/802-conserve\", \"Conserve\"),\n",
    "    (\"https://www.freshful.ro/c/8-ceva-sarat/803-condimente-si-sosuri\", \"Condimente si Sosuri\"),\n",
    "    (\"https://www.freshful.ro/c/8-ceva-sarat/804-ulei-si-otet\", \"Ulei si Otet\"),\n",
    "    (\"https://www.freshful.ro/c/8-ceva-sarat/faina-zahar-si-produse-gourmet\", \"Faina si Zahar\"),\n",
    "    (\"https://www.freshful.ro/c/9-ceva-dulce/903-cereale-si-mic-dejun\", \"Dulciuri\")\n",
    "]"
   ]
  },
  {
   "cell_type": "code",
   "execution_count": 3,
   "metadata": {},
   "outputs": [],
   "source": [
    "from pydantic import BaseModel\n",
    "\n",
    "class ProductBase(BaseModel):\n",
    "    image_url: str\n",
    "    brand: str\n",
    "    category: str\n",
    "    name: str\n",
    "    price: str"
   ]
  },
  {
   "cell_type": "code",
   "execution_count": 4,
   "metadata": {},
   "outputs": [],
   "source": [
    "def get_products(elements, category):\n",
    "    return [\n",
    "        ProductBase(\n",
    "            image_url=element.find_element(By.CLASS_NAME, \"ProductCard_image__37xLX\").get_attribute(\"src\"),\n",
    "            brand=element.find_element(By.CLASS_NAME, \"ProductCard_brand__fw44e\").text,\n",
    "            category=category,\n",
    "            name=element.find_element(By.CLASS_NAME, \"ProductCard_nameText__9eKNm\").text,\n",
    "            price=element.find_element(By.CLASS_NAME, \"ProductPrice_price__u_2B0\").text\n",
    "        )\n",
    "        for element in elements\n",
    "    ]"
   ]
  },
  {
   "cell_type": "code",
   "execution_count": 5,
   "metadata": {},
   "outputs": [
    {
     "name": "stderr",
     "output_type": "stream",
     "text": [
      "  0%|          | 0/27 [00:00<?, ?it/s]"
     ]
    },
    {
     "name": "stderr",
     "output_type": "stream",
     "text": [
      "100%|██████████| 27/27 [07:23<00:00, 16.41s/it]\n"
     ]
    }
   ],
   "source": [
    "products = []\n",
    "\n",
    "for product_url, category in tqdm(product_urls):\n",
    "    try:\n",
    "        driver.get(f\"{product_url}\")\n",
    "        elements = driver.find_elements(By.CLASS_NAME, 'ProductCard_root__JxJK7')\n",
    "        products.extend(get_products(elements, category))\n",
    "    except Exception:\n",
    "        pass\n",
    "\n",
    "    for i in range(2, 10):\n",
    "        try:\n",
    "            driver.get(f\"{product_url}/p{i}\")\n",
    "            elements = driver.find_elements(By.CLASS_NAME, 'ProductCard_root__JxJK7')\n",
    "            if not elements:\n",
    "                break\n",
    "            products.extend(get_products(elements, category))\n",
    "        except Exception:\n",
    "            break"
   ]
  },
  {
   "cell_type": "code",
   "execution_count": 6,
   "metadata": {},
   "outputs": [
    {
     "data": {
      "text/plain": [
       "5020"
      ]
     },
     "execution_count": 6,
     "metadata": {},
     "output_type": "execute_result"
    }
   ],
   "source": [
    "len(products)"
   ]
  },
  {
   "cell_type": "code",
   "execution_count": null,
   "metadata": {},
   "outputs": [],
   "source": [
    "driver.quit()"
   ]
  },
  {
   "cell_type": "code",
   "execution_count": 7,
   "metadata": {},
   "outputs": [
    {
     "name": "stderr",
     "output_type": "stream",
     "text": [
      "/var/folders/y8/sg2j3k7513d450p1rpxfh4sc0000gp/T/ipykernel_77224/1740731803.py:3: PydanticDeprecatedSince20: The `dict` method is deprecated; use `model_dump` instead. Deprecated in Pydantic V2.0 to be removed in V3.0. See Pydantic V2 Migration Guide at https://errors.pydantic.dev/2.0.2/migration/\n",
      "  products_json = [p.dict() for p in products]\n"
     ]
    }
   ],
   "source": [
    "import json\n",
    "\n",
    "products_json = [p.dict() for p in products]\n",
    "with open(\"products.json\", \"w\") as fp:\n",
    "    json.dump(products_json, fp, indent=4, ensure_ascii=False)"
   ]
  },
  {
   "cell_type": "code",
   "execution_count": 8,
   "metadata": {},
   "outputs": [
    {
     "data": {
      "text/plain": [
       "[('Lactate, Branzeturi si Oua', 987),\n",
       " ('Fructe si Legume', 556),\n",
       " ('Vinuri', 540),\n",
       " ('Conserve', 540),\n",
       " ('Condimente si Sosuri', 540),\n",
       " ('Faina si Zahar', 405),\n",
       " ('Dulciuri', 401),\n",
       " ('Produse Vegetale', 261),\n",
       " ('Mezeluri', 180),\n",
       " ('Paste si Orez', 179),\n",
       " ('Carne si Peste', 178),\n",
       " ('Apa', 99),\n",
       " ('Ulei si Otet', 94),\n",
       " ('Paine', 60)]"
      ]
     },
     "execution_count": 8,
     "metadata": {},
     "output_type": "execute_result"
    }
   ],
   "source": [
    "from collections import Counter\n",
    "\n",
    "Counter([p.category for p in products]).most_common(20)"
   ]
  },
  {
   "cell_type": "code",
   "execution_count": 77,
   "metadata": {},
   "outputs": [
    {
     "data": {
      "text/plain": [
       "[('Bacanie', 1758),\n",
       " ('Lactate, branzeturi si oua', 987),\n",
       " ('Bauturi', 639),\n",
       " ('Fructe si Legume', 556),\n",
       " ('Dulciuri', 401),\n",
       " ('Mezeluri', 331),\n",
       " ('Produse-Vegetale', 261),\n",
       " ('Carne si Peste', 118),\n",
       " ('Brutarie', 110)]"
      ]
     },
     "execution_count": 77,
     "metadata": {},
     "output_type": "execute_result"
    }
   ],
   "source": [
    "from collections import Counter\n",
    "\n",
    "Counter([p.category for p in products]).most_common(20)"
   ]
  },
  {
   "cell_type": "code",
   "execution_count": null,
   "metadata": {},
   "outputs": [],
   "source": []
  },
  {
   "cell_type": "code",
   "execution_count": 47,
   "metadata": {},
   "outputs": [],
   "source": [
    "import json\n",
    "import re\n",
    "\n",
    "from engine.models.model import Product\n",
    "from tqdm import tqdm\n",
    "\n",
    "with open(\"products.json\", \"r\") as fp:\n",
    "    products = json.load(fp)"
   ]
  },
  {
   "cell_type": "code",
   "execution_count": 48,
   "metadata": {},
   "outputs": [
    {
     "name": "stderr",
     "output_type": "stream",
     "text": [
      "5020it [00:00, 527823.47it/s]\n"
     ]
    }
   ],
   "source": [
    "for idx, p in tqdm(enumerate(products)):\n",
    "    p[\"id\"] = str(idx)\n",
    "    p[\"description\"] = p[\"brand\"]\n",
    "    del p[\"brand\"]\n",
    "    p[\"price\"] = p[\"price\"].split()[0]\n",
    "    p[\"price\"] = float(p[\"price\"].replace(',', '.'))"
   ]
  },
  {
   "cell_type": "code",
   "execution_count": 49,
   "metadata": {},
   "outputs": [],
   "source": [
    "parsed_products = []\n",
    "for p in products:\n",
    "    match = re.match(r\"^(.*?)(\\d+\\.?\\d*)?([A-Za-z]+)(?: \\((.*?)\\))?$\", p[\"name\"])\n",
    "    if not match:\n",
    "        continue\n",
    "\n",
    "    title = match.group(1).strip()\n",
    "    quantity = match.group(2)\n",
    "    unit = match.group(3)\n",
    "\n",
    "    if quantity is None:\n",
    "        quantity = \"1\"\n",
    "\n",
    "    try:\n",
    "        p[\"quantity\"] = str(float(quantity))\n",
    "        p[\"measure_unit\"] = unit\n",
    "        parsed_products.append(Product.model_validate(p))\n",
    "    except Exception as err:\n",
    "        print(err)"
   ]
  },
  {
   "cell_type": "code",
   "execution_count": 50,
   "metadata": {},
   "outputs": [
    {
     "data": {
      "text/plain": [
       "{'image_url': 'https://cdn.freshful.ro/media/cache/sylius_shop_product_thumbnail/f2/a9/b8557693cde28f2a99eabd66465c.jpg',\n",
       " 'category': 'Paine',\n",
       " 'name': 'Pâine albă pe vatră, feliată 300g',\n",
       " 'price': 2.49,\n",
       " 'id': '0',\n",
       " 'description': 'San Delicio',\n",
       " 'quantity': '300.0',\n",
       " 'measure_unit': 'g'}"
      ]
     },
     "execution_count": 50,
     "metadata": {},
     "output_type": "execute_result"
    }
   ],
   "source": [
    "products[0]"
   ]
  },
  {
   "cell_type": "code",
   "execution_count": 51,
   "metadata": {},
   "outputs": [],
   "source": [
    "from google.cloud import firestore\n",
    "\n",
    "fs_client = firestore.Client(\"rtc-engine-392005\")"
   ]
  },
  {
   "cell_type": "code",
   "execution_count": 55,
   "metadata": {},
   "outputs": [
    {
     "name": "stderr",
     "output_type": "stream",
     "text": [
      "100%|██████████| 5002/5002 [04:02<00:00, 20.65it/s]\n"
     ]
    }
   ],
   "source": [
    "for product in tqdm(parsed_products):\n",
    "    product_ref = fs_client.collection(\"products\").document(product.id)\n",
    "    product_ref.set(product.model_dump())"
   ]
  },
  {
   "cell_type": "code",
   "execution_count": 56,
   "metadata": {},
   "outputs": [],
   "source": [
    "json_products = [product.model_dump() for product in parsed_products]\n",
    "with open(\"products.json\", \"w\") as fp:\n",
    "    json.dump(json_products, fp, indent=4, ensure_ascii=False)"
   ]
  },
  {
   "cell_type": "code",
   "execution_count": null,
   "metadata": {},
   "outputs": [],
   "source": []
  }
 ],
 "metadata": {
  "kernelspec": {
   "display_name": "rtc-engine",
   "language": "python",
   "name": "python3"
  },
  "language_info": {
   "codemirror_mode": {
    "name": "ipython",
    "version": 3
   },
   "file_extension": ".py",
   "mimetype": "text/x-python",
   "name": "python",
   "nbconvert_exporter": "python",
   "pygments_lexer": "ipython3",
   "version": "3.10.9"
  },
  "orig_nbformat": 4
 },
 "nbformat": 4,
 "nbformat_minor": 2
}
